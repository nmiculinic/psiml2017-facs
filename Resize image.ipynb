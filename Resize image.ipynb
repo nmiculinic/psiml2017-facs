{
 "cells": [
  {
   "cell_type": "code",
   "execution_count": 13,
   "metadata": {
    "collapsed": true
   },
   "outputs": [],
   "source": [
    "from PIL import Image\n",
    "import numpy as np\n",
    "import os"
   ]
  },
  {
   "cell_type": "code",
   "execution_count": 60,
   "metadata": {},
   "outputs": [],
   "source": [
    "imIn = r'C:\\Users\\admin\\Desktop\\DATASETS\\10k FACES\\Face Annotations\\Images and Annotations\\2.jpg'\n",
    "landIn = r'C:\\Users\\admin\\Desktop\\DATASETS\\10k FACES\\Face Annotations\\Images and Annotations\\1_landmarks.txt'\n",
    "imOut = 'C:\\\\Users\\\\admin\\\\Desktop\\\\resized pics\\\\1.jpg'\n",
    "landOut = 'C:\\\\Users\\\\admin\\\\Desktop\\\\resized pics\\\\1_landmarks.txt'\n",
    "\n",
    "img = Image.open(fname)\n",
    "landmarks = np.loadtxt(lname)\n",
    "width, height = img.size[:2]\n",
    "PICTURE_SIZE = 128\n",
    "\n",
    "if height>width:\n",
    "    resized_height = PICTURE_SIZE\n",
    "    resized_width = round(PICTURE_SIZE*width/height)\n",
    "    x_offset=round((PICTURE_SIZE-resized_width)/2)\n",
    "    y_offset=0\n",
    "    landmarks[:, 0] = landmarks[:, 0] * (PICTURE_SIZE/width) + x_offset\n",
    "    landmarks[:, 1] = landmarks[:, 1] * (PICTURE_SIZE/height)\n",
    "elif height<width:\n",
    "    resized_height = round(PICTURE_SIZE*height/width)\n",
    "    resized_width = PICTURE_SIZE\n",
    "    x_offset=0\n",
    "    y_offset=round((PICTURE_SIZE-resized_height)/2)\n",
    "    landmarks[:, 0] = landmarks[:, 0] * (PICTURE_SIZE/width)\n",
    "    landmarks[:, 1] = landmarks[:, 1] * (PICTURE_SIZE/height) + y_offset\n",
    "else:\n",
    "    resized_height = PICTURE_SIZE\n",
    "    resized_width = PICTURE_SIZE\n",
    "    x_offset=y_offset=0\n",
    "    landmarks[:, 0] = landmarks[:, 0] * (PICTURE_SIZE/width)\n",
    "    landmarks[:, 1] = landmarks[:, 1] * (PICTURE_SIZE/height)\n",
    "img = img.resize((resized_width,resized_height),Image.ANTIALIAS)\n",
    "offset_image = np.zeros((PICTURE_SIZE,PICTURE_SIZE,3),np.uint8)\n",
    "offset_image= Image.fromarray(offset_image)\n",
    "offset_image.paste(img,(x_offset,y_offset))\n",
    "offset_image.save(imOut)\n",
    "np.savetxt(landOut,landmarks)"
   ]
  },
  {
   "cell_type": "code",
   "execution_count": null,
   "metadata": {
    "collapsed": true
   },
   "outputs": [],
   "source": []
  }
 ],
 "metadata": {
  "kernelspec": {
   "display_name": "Python 3",
   "language": "python",
   "name": "python3"
  },
  "language_info": {
   "codemirror_mode": {
    "name": "ipython",
    "version": 3
   },
   "file_extension": ".py",
   "mimetype": "text/x-python",
   "name": "python",
   "nbconvert_exporter": "python",
   "pygments_lexer": "ipython3",
   "version": "3.6.2"
  }
 },
 "nbformat": 4,
 "nbformat_minor": 2
}
